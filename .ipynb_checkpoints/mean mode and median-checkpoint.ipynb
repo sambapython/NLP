{
 "cells": [
  {
   "cell_type": "markdown",
   "metadata": {},
   "source": [
    "#MEAN\n",
    "For example take an example data of costs mi mobiles.\n",
    "data = {\"oneplus6t\": 38000,\"redmi6pro\":11000,\"redmiyy2\":9000,\"redmi6A\":7000,\"miA2\":16000}"
   ]
  }
 ],
 "metadata": {
  "kernelspec": {
   "display_name": "Python 3",
   "language": "python",
   "name": "python3"
  },
  "language_info": {
   "codemirror_mode": {
    "name": "ipython",
    "version": 3
   },
   "file_extension": ".py",
   "mimetype": "text/x-python",
   "name": "python",
   "nbconvert_exporter": "python",
   "pygments_lexer": "ipython3",
   "version": "3.7.0"
  }
 },
 "nbformat": 4,
 "nbformat_minor": 2
}
